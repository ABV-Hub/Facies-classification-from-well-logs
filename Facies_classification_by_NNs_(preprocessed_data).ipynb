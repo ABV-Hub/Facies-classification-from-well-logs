{
 "cells": [
  {
   "cell_type": "code",
   "execution_count": 1,
   "metadata": {},
   "outputs": [
    {
     "name": "stderr",
     "output_type": "stream",
     "text": [
      "Using TensorFlow backend.\n"
     ]
    }
   ],
   "source": [
    "import pandas as pd\n",
    "from keras.models import Sequential\n",
    "from keras.callbacks import ModelCheckpoint\n",
    "from keras.layers import Dense,Dropout,Activation,Conv1D,MaxPooling1D,Flatten,MaxPool1D,BatchNormalization,LeakyReLU\n",
    "from keras.callbacks import ReduceLROnPlateau,TensorBoard\n",
    "from keras.utils import to_categorical\n",
    "from keras.regularizers import l2\n",
    "from keras.optimizers import Adamax,Adagrad\n",
    "import numpy as np\n",
    "from keras.models import load_model\n",
    "from sklearn import preprocessing\n",
    "from sklearn.model_selection import train_test_split"
   ]
  },
  {
   "cell_type": "code",
   "execution_count": 2,
   "metadata": {},
   "outputs": [],
   "source": [
    "feature_names = ['GR', 'ILD_log10', 'DeltaPHI', 'PHIND', 'PE', 'NM_M', 'RELPOS']\n",
    "facies_names = ['SS', 'CSiS', 'FSiS', 'SiSh', 'MS', 'WS', 'D', 'PS', 'BS']\n",
    "facies_colors =  ['#F56F45', '#FA7E7E','#8C8456','#8F6A9E',\n",
    "       '#226854','#9EDAAB', '#7C97FC', '#25C4EF', '#A7D909']"
   ]
  },
  {
   "cell_type": "code",
   "execution_count": 3,
   "metadata": {},
   "outputs": [],
   "source": [
    "data = pd.read_csv('ok_data_for_classification.csv')\n",
    "#data = pd.read_csv('facies_data.csv')\n",
    "def one_hot_enc(y):\n",
    "    classes = sorted(list(set(y)))\n",
    "    y_enc = np.zeros((y.shape[0],len(classes)),dtype=\"float32\")\n",
    "    for index,label in enumerate(y):\n",
    "        y_enc[index,classes.index(label)] = 1.\n",
    "    return y_enc"
   ]
  },
  {
   "cell_type": "code",
   "execution_count": 4,
   "metadata": {},
   "outputs": [
    {
     "name": "stdout",
     "output_type": "stream",
     "text": [
      "(4149, 7)\n",
      "(4149, 7)\n",
      "3\n",
      "{1, 2, 3, 4, 5, 6, 7, 8, 9}\n",
      "[0. 0. 1. 0. 0. 0. 0. 0. 0.]\n"
     ]
    }
   ],
   "source": [
    "X = data[feature_names].values  # features\n",
    "print(X.shape)\n",
    "y = data['Facies'].values  # labels\n",
    "well = data['Well Name'].values\n",
    "\n",
    "depth = data['Depth'].values\n",
    "#nan_idx = np.any(np.isnan(X), axis=1)\n",
    "#X = X[np.logical_not(nan_idx), :]\n",
    "\n",
    "\n",
    "#imp = preprocessing.Imputer(missing_values='NaN', strategy='mean', axis=0)\n",
    "#imp.fit(X)\n",
    "#X = imp.transform(X)\n",
    "\n",
    "#max_values_x = np.amax(X,axis=0)#normalization\n",
    "#X/=np.amax(X,axis=0)#normalization\n",
    "\n",
    "print (X.shape)\n",
    "print (y[50])\n",
    "#y = y[np.logical_not(nan_idx)]\n",
    "classes = set(y)\n",
    "print (classes)\n",
    "y = one_hot_enc(y)\n",
    "print (y[50])\n"
   ]
  },
  {
   "cell_type": "code",
   "execution_count": null,
   "metadata": {},
   "outputs": [],
   "source": [
    "# Simple NN\n",
    "units = 256\n",
    "model = Sequential([\n",
    "    \n",
    "    Dense(units,input_shape=(7,)),\n",
    "    Activation(\"relu\"),\n",
    "    Dropout(0.3),\n",
    "    Dense(units),\n",
    "    Activation(\"relu\"),\n",
    "    Dropout(0.3),\n",
    "    Dense(len(classes)),\n",
    "    Activation(\"softmax\"),\n",
    "    \n",
    "])\n",
    "model.compile(loss='categorical_crossentropy',optimizer=\"adagrad\",metrics=['accuracy'])"
   ]
  },
  {
   "cell_type": "code",
   "execution_count": null,
   "metadata": {},
   "outputs": [],
   "source": [
    "model.fit(X,y,validation_split=0.2,batch_size=10,epochs=400,callbacks=[checkpoint,tbCallBack],shuffle=True)\n",
    "# 0.61084"
   ]
  },
  {
   "cell_type": "code",
   "execution_count": null,
   "metadata": {},
   "outputs": [],
   "source": [
    "units = 256\n",
    "model = Sequential([\n",
    "    \n",
    "    Dense(units,input_shape=(7,)),\n",
    "    Activation(\"relu\"),\n",
    "    Dropout(0.3),\n",
    "    Dense(units),\n",
    "    Activation(\"relu\"),\n",
    "    Dropout(0.3),\n",
    "    Dense(len(classes)),\n",
    "    Activation(\"softmax\"),\n",
    "    \n",
    "])\n",
    "model.compile(loss='categorical_crossentropy',optimizer=\"adagrad\",metrics=['accuracy'])\n"
   ]
  },
  {
   "cell_type": "code",
   "execution_count": null,
   "metadata": {},
   "outputs": [],
   "source": [
    "model.fit(X,y,validation_split=0.2,batch_size=10,epochs=400,callbacks=[checkpoint,tbCallBack],shuffle=True)"
   ]
  },
  {
   "cell_type": "code",
   "execution_count": null,
   "metadata": {},
   "outputs": [],
   "source": [
    "%matplotlib inline\n",
    "history = cnn_model.fit(X,y,validation_split=0.2,batch_size = 10,epochs=500,shuffle=True)"
   ]
  },
  {
   "cell_type": "code",
   "execution_count": null,
   "metadata": {},
   "outputs": [],
   "source": [
    "plt.figure(figsize=(12,12))\n",
    "plt.subplot()\n",
    "plt.plot(history.history['loss'],color='magenta')\n",
    "plt.plot(history.history['val_loss'],color='darkcyan')\n",
    "plt.title('model loss')\n",
    "plt.ylabel('loss')\n",
    "plt.xlabel('epoch')\n",
    "plt.legend(['train','test'],loc='best')\n",
    "plt.show()\n",
    "plt.figure(figsize=(12,12))\n",
    "plt.subplot()\n",
    "plt.plot(history.history['acc'],color='turquoise')\n",
    "plt.plot(history.history['val_acc'],color='mediumslateblue')\n",
    "plt.title('model accuracy')\n",
    "plt.xlabel('epoch')\n",
    "plt.ylabel('acc')\n",
    "plt.legend(['train','test'],loc='best')\n",
    "plt.show()"
   ]
  },
  {
   "cell_type": "code",
   "execution_count": 44,
   "metadata": {},
   "outputs": [],
   "source": [
    "import pickle\n",
    "X_train,y_train, X_test, y_test = [],[],[],[]\n",
    "with open('train.pickle', 'wb') as f:\n",
    "    pickle.dump([X_train,y_train, X_test, y_test], f)"
   ]
  },
  {
   "cell_type": "code",
   "execution_count": 8,
   "metadata": {},
   "outputs": [],
   "source": [
    "#X_train,X_test,y_train,y_test = train_test_split(X,y,test_size=0.2)"
   ]
  },
  {
   "cell_type": "code",
   "execution_count": null,
   "metadata": {},
   "outputs": [],
   "source": [
    "## HERE HERE HERE"
   ]
  },
  {
   "cell_type": "markdown",
   "metadata": {},
   "source": [
    "one-dimensional convolutional neural network"
   ]
  },
  {
   "cell_type": "code",
   "execution_count": 10,
   "metadata": {},
   "outputs": [
    {
     "name": "stdout",
     "output_type": "stream",
     "text": [
      "WARNING:tensorflow:From C:\\Users\\813631\\Anaconda3\\lib\\site-packages\\tensorflow\\python\\framework\\op_def_library.py:263: colocate_with (from tensorflow.python.framework.ops) is deprecated and will be removed in a future version.\n",
      "Instructions for updating:\n",
      "Colocations handled automatically by placer.\n",
      "WARNING:tensorflow:From C:\\Users\\813631\\Anaconda3\\lib\\site-packages\\keras\\backend\\tensorflow_backend.py:3445: calling dropout (from tensorflow.python.ops.nn_ops) with keep_prob is deprecated and will be removed in a future version.\n",
      "Instructions for updating:\n",
      "Please use `rate` instead of `keep_prob`. Rate should be set to `rate = 1 - keep_prob`.\n",
      "_________________________________________________________________\n",
      "Layer (type)                 Output Shape              Param #   \n",
      "=================================================================\n",
      "conv1d_1 (Conv1D)            (None, 6, 64)             192       \n",
      "_________________________________________________________________\n",
      "activation_1 (Activation)    (None, 6, 64)             0         \n",
      "_________________________________________________________________\n",
      "batch_normalization_1 (Batch (None, 6, 64)             256       \n",
      "_________________________________________________________________\n",
      "conv1d_2 (Conv1D)            (None, 6, 64)             8256      \n",
      "_________________________________________________________________\n",
      "activation_2 (Activation)    (None, 6, 64)             0         \n",
      "_________________________________________________________________\n",
      "batch_normalization_2 (Batch (None, 6, 64)             256       \n",
      "_________________________________________________________________\n",
      "dropout_1 (Dropout)          (None, 6, 64)             0         \n",
      "_________________________________________________________________\n",
      "conv1d_3 (Conv1D)            (None, 6, 64)             8256      \n",
      "_________________________________________________________________\n",
      "activation_3 (Activation)    (None, 6, 64)             0         \n",
      "_________________________________________________________________\n",
      "batch_normalization_3 (Batch (None, 6, 64)             256       \n",
      "_________________________________________________________________\n",
      "max_pooling1d_1 (MaxPooling1 (None, 4, 64)             0         \n",
      "_________________________________________________________________\n",
      "conv1d_4 (Conv1D)            (None, 4, 128)            16512     \n",
      "_________________________________________________________________\n",
      "activation_4 (Activation)    (None, 4, 128)            0         \n",
      "_________________________________________________________________\n",
      "batch_normalization_4 (Batch (None, 4, 128)            512       \n",
      "_________________________________________________________________\n",
      "conv1d_5 (Conv1D)            (None, 4, 128)            32896     \n",
      "_________________________________________________________________\n",
      "activation_5 (Activation)    (None, 4, 128)            0         \n",
      "_________________________________________________________________\n",
      "batch_normalization_5 (Batch (None, 4, 128)            512       \n",
      "_________________________________________________________________\n",
      "dropout_2 (Dropout)          (None, 4, 128)            0         \n",
      "_________________________________________________________________\n",
      "conv1d_6 (Conv1D)            (None, 4, 128)            16512     \n",
      "_________________________________________________________________\n",
      "activation_6 (Activation)    (None, 4, 128)            0         \n",
      "_________________________________________________________________\n",
      "batch_normalization_6 (Batch (None, 4, 128)            512       \n",
      "_________________________________________________________________\n",
      "max_pooling1d_2 (MaxPooling1 (None, 4, 128)            0         \n",
      "_________________________________________________________________\n",
      "flatten_1 (Flatten)          (None, 512)               0         \n",
      "_________________________________________________________________\n",
      "dense_1 (Dense)              (None, 2500)              1282500   \n",
      "_________________________________________________________________\n",
      "activation_7 (Activation)    (None, 2500)              0         \n",
      "_________________________________________________________________\n",
      "batch_normalization_7 (Batch (None, 2500)              10000     \n",
      "_________________________________________________________________\n",
      "dropout_3 (Dropout)          (None, 2500)              0         \n",
      "_________________________________________________________________\n",
      "dense_2 (Dense)              (None, 1500)              3751500   \n",
      "_________________________________________________________________\n",
      "activation_8 (Activation)    (None, 1500)              0         \n",
      "_________________________________________________________________\n",
      "dense_3 (Dense)              (None, 9)                 13509     \n",
      "_________________________________________________________________\n",
      "activation_9 (Activation)    (None, 9)                 0         \n",
      "=================================================================\n",
      "Total params: 5,142,437\n",
      "Trainable params: 5,136,285\n",
      "Non-trainable params: 6,152\n",
      "_________________________________________________________________\n"
     ]
    }
   ],
   "source": [
    "X_train = np.expand_dims(X_train, axis=2)\n",
    "X_test = np.expand_dims(X_test, axis=2)\n",
    "# 1D-CNN\n",
    "model = Sequential([\n",
    "    \n",
    "    Conv1D(64, 2, strides=1,input_shape =(7,1)), \n",
    "    Activation(\"relu\"), \n",
    "    BatchNormalization(),\n",
    "    #MaxPool1D(2,1),\n",
    "   \n",
    "\n",
    "    Conv1D(64, 2, strides=1,padding=\"same\"), \n",
    "    Activation(\"relu\"), \n",
    "    BatchNormalization(),\n",
    "    #MaxPool1D(2,1),\n",
    "    Dropout(0.3),\n",
    "    \n",
    "    Conv1D(64,2,strides=1,padding=\"same\"),\n",
    "    Activation(\"relu\"), \n",
    "    BatchNormalization(),\n",
    "    MaxPooling1D(3,1),\n",
    "   \n",
    "   \n",
    "    Conv1D(128,2,strides=1,padding=\"same\"),\n",
    "    Activation(\"relu\"), \n",
    "    BatchNormalization(),\n",
    "    #MaxPooling1D(2,1),\n",
    "    \n",
    "    \n",
    "    Conv1D(128,2,strides=1,padding=\"same\"),\n",
    "    Activation(\"relu\"), \n",
    "    BatchNormalization(),\n",
    "    Dropout(0.3),\n",
    "    \n",
    "    Conv1D(128,1,strides=1,padding=\"same\"),\n",
    "    Activation(\"relu\"), \n",
    "    BatchNormalization(),\n",
    "    MaxPooling1D(1,1),\n",
    "    \n",
    "    \n",
    "    Flatten(), \n",
    "    Dense(2500),\n",
    "    Activation(\"relu\"),\n",
    "    BatchNormalization(),\n",
    "   \n",
    "    Dropout(0.3),\n",
    "    Dense(1500),\n",
    "    Activation(\"relu\"),\n",
    "    \n",
    "    Dense(len(classes)),\n",
    "    Activation(\"softmax\"),\n",
    "    \n",
    "])\n",
    "model.summary()\n",
    "model.compile(loss='categorical_crossentropy',optimizer=\"adagrad\",metrics=['accuracy'])"
   ]
  },
  {
   "cell_type": "code",
   "execution_count": 5,
   "metadata": {
    "scrolled": true
   },
   "outputs": [],
   "source": [
    "#model = load_model(\"weights/weights-488-0.74.h5\")\n",
    "filepath = \"weights/weights-{epoch:02d}-{val_acc:.2f}.h5\"\n",
    "tbCallBack = TensorBoard(log_dir = 'Graph/CNN13_graph', histogram_freq=0, write_graph=True, write_images=True)\n",
    "checkpoint = ModelCheckpoint(filepath, monitor='val_acc', verbose=1, save_best_only=True, mode='max',\n",
    "                                     save_weights_only=False)\n",
    "model.fit(X_train,y_train,shuffle=True,validation_data = (X_test, y_test),batch_size=64,epochs=2800,callbacks=[checkpoint,tbCallBack])"
   ]
  },
  {
   "cell_type": "code",
   "execution_count": 53,
   "metadata": {},
   "outputs": [],
   "source": [
    "import pickle\n",
    "with open('train.pickle', 'rb') as f:\n",
    "    X_train,y_train, X_test, y_test = pickle.load(f)"
   ]
  },
  {
   "cell_type": "code",
   "execution_count": null,
   "metadata": {},
   "outputs": [],
   "source": [
    "# HERE HERE HERE"
   ]
  },
  {
   "cell_type": "code",
   "execution_count": 54,
   "metadata": {},
   "outputs": [],
   "source": [
    "model1 = load_model('C:/w_CNN/weights-1982-0.79_OK_dataset.h5')"
   ]
  },
  {
   "cell_type": "code",
   "execution_count": 55,
   "metadata": {},
   "outputs": [],
   "source": [
    "#X_test = X_test.reshape((830, 7,1))\n",
    "pred = model1.predict_classes(X_test)\n",
    "y_test_dec = np.argmax(y_test,axis=1)\n",
    "accurc = accuracy_score(y_test_dec,pred)\n",
    "f1_ = f1_score(y_test_dec,pred,average='macro')"
   ]
  },
  {
   "cell_type": "code",
   "execution_count": 56,
   "metadata": {},
   "outputs": [
    {
     "data": {
      "text/plain": [
       "0.7879518072289157"
      ]
     },
     "execution_count": 56,
     "metadata": {},
     "output_type": "execute_result"
    }
   ],
   "source": [
    "accurc # accuracy for test data "
   ]
  },
  {
   "cell_type": "code",
   "execution_count": 57,
   "metadata": {},
   "outputs": [
    {
     "data": {
      "text/plain": [
       "0.7968101053099594"
      ]
     },
     "execution_count": 57,
     "metadata": {},
     "output_type": "execute_result"
    }
   ],
   "source": [
    "f1_ # f1-measure for test data"
   ]
  },
  {
   "cell_type": "code",
   "execution_count": 69,
   "metadata": {},
   "outputs": [],
   "source": [
    "import pickle\n",
    "with open('train_ok_last.pickle', 'rb') as f:\n",
    "    X_train,y_train, X_test, y_test = pickle.load(f)"
   ]
  },
  {
   "cell_type": "code",
   "execution_count": 65,
   "metadata": {},
   "outputs": [],
   "source": [
    "modelnew = load_model('C:/prosto_ok/weights_OKNEW_-2640-0.77.h5')"
   ]
  },
  {
   "cell_type": "code",
   "execution_count": 70,
   "metadata": {},
   "outputs": [],
   "source": [
    "pred = modelnew.predict_classes(X_test)\n",
    "y_test_dec = np.argmax(y_test,axis=1)\n",
    "accurc = accuracy_score(y_test_dec,pred)\n",
    "f1_ = f1_score(y_test_dec,pred,average='macro')"
   ]
  },
  {
   "cell_type": "code",
   "execution_count": 71,
   "metadata": {},
   "outputs": [
    {
     "data": {
      "text/plain": [
       "0.772289156626506"
      ]
     },
     "execution_count": 71,
     "metadata": {},
     "output_type": "execute_result"
    }
   ],
   "source": [
    "accurc"
   ]
  },
  {
   "cell_type": "code",
   "execution_count": 72,
   "metadata": {},
   "outputs": [
    {
     "data": {
      "text/plain": [
       "0.7536210657492306"
      ]
     },
     "execution_count": 72,
     "metadata": {},
     "output_type": "execute_result"
    }
   ],
   "source": [
    "f1_"
   ]
  },
  {
   "cell_type": "code",
   "execution_count": null,
   "metadata": {},
   "outputs": [],
   "source": [
    "## Extra calculations"
   ]
  },
  {
   "cell_type": "code",
   "execution_count": 106,
   "metadata": {},
   "outputs": [],
   "source": [
    "for i in range(len(pred)):\n",
    "    pred[i]+=1\n",
    "    y_test_dec[i]+=1"
   ]
  },
  {
   "cell_type": "code",
   "execution_count": 6,
   "metadata": {},
   "outputs": [],
   "source": [
    "adjacent_facies = np.array([[1,2], [1,2,3], [2,3], [4,5], [4,5,6], [5,6,7,8], [6,7,8], [6,7,8,9], [7,8,9]])\n",
    "p = 0\n",
    "for i in range(1, len(pred)):\n",
    "    if pred[i] == y_test_dec[i]:\n",
    "        p+=1\n",
    "    elif (pred[i] == adjacent_facies[y_test_dec[i]-1]).any():\n",
    "        p = p + 1\n",
    "accuracy_adj = p/float(len(pred))\n",
    "print('Adjacent facies classification accuracy = %f' % accuracy_adj)"
   ]
  },
  {
   "cell_type": "code",
   "execution_count": 74,
   "metadata": {},
   "outputs": [],
   "source": [
    "Precision = {}\n",
    "Recall = {}\n",
    "y_test1_ = list(y_test)\n",
    "for j in range(1, 10):\n",
    "    TP,FP,FN,TN = 0,0,0,0\n",
    "    for i in range(1, len(pred)):\n",
    "        if ((y_test_dec[i] == j) and (pred[i] == j)):\n",
    "            TP += 1\n",
    "        if ((y_test_dec[i] != j) and (pred[i] == j)):\n",
    "            FP += 1\n",
    "        if ((y_test_dec[i] == j) and (pred[i] != j)):\n",
    "            FN += 1\n",
    "        if ((y_test_dec[i] != j) and (pred[i] != j)):\n",
    "            TN += 1   \n",
    "    if (TP+FP == 0):\n",
    "        Precision[j] = 0\n",
    "    else:\n",
    "        Precision[j] = float(TP)/(TP+FP)\n",
    "    if (TP+FN == 0):\n",
    "        Recall[j] = 0\n",
    "    else:\n",
    "        Recall[j] = float(TP)/(TP+FN)"
   ]
  },
  {
   "cell_type": "code",
   "execution_count": 7,
   "metadata": {},
   "outputs": [],
   "source": [
    "import matplotlib.pyplot as plt\n",
    "\n",
    "X = np.arange(9)\n",
    "res = {'Precision': Precision, 'Recall': Recall}\n",
    "plt.figure(figsize=(7,5))\n",
    "\n",
    "Res = pd.DataFrame(res)\n",
    "Res['Facies'] = ['SS', 'CSiS', 'FSiS', 'SiSh', 'MS', 'WS', 'D','PS', 'BS'] \n",
    "plt.bar(X - 0.2, Res['Precision'], color = 'mediumslateblue', width = 0.4, label = 'Precision')\n",
    "plt.bar(X + 0.2, Res['Recall'], color = 'rebeccapurple', width = 0.4, label = 'Recall')\n",
    "plt.title('Precision & Recall')\n",
    "plt.xticks(X, Res['Facies'])\n",
    "plt.legend()\n",
    "plt.show()"
   ]
  },
  {
   "cell_type": "code",
   "execution_count": 89,
   "metadata": {},
   "outputs": [
    {
     "data": {
      "image/png": "[encoded data removed]",
      "text/plain": [
       "<Figure size 504x360 with 1 Axes>"
      ]
     },
     "metadata": {
      "needs_background": "light"
     },
     "output_type": "display_data"
    }
   ],
   "source": [
    "f={}\n",
    "for i in range(1, 10):\n",
    "    if ((Precision[i] == 0) or (Recall[i] == 0)):\n",
    "        f[i] = 0\n",
    "    else:\n",
    "        f[i] = 2*(Precision[i]*Recall[i])/(Precision[i]+Recall[i])\n",
    "        f[i]*=100\n",
    "        \n",
    "plt.figure(figsize=(7,5))\n",
    "fcolors = ['#F56F45', '#FA7E7E','#8C8456','#8F6A9E','#226854','#9EDAAB', '#7C97FC', '#25C4EF', '#A7D909'] \n",
    "f = {'f1-measure': f}\n",
    "F = pd.DataFrame(f)\n",
    "X = np.arange(9)\n",
    "F['Facies'] = [1,2,3,4,5,6,7,8,9]\n",
    "plt.bar(X, F['f1-measure'], color = fcolors, width = 0.5, label = 'f1-measure')\n",
    "plt.title('f1-measure')\n",
    "plt.xlabel('Facies')\n",
    "plt.ylabel('f1')\n",
    "plt.xticks(X, Res['Facies'])\n",
    "plt.savefig(\"f1_measure.png\")\n",
    "plt.show()"
   ]
  },
  {
   "cell_type": "code",
   "execution_count": 123,
   "metadata": {},
   "outputs": [
    {
     "data": {
      "image/png": "[encoded data removed]",
      "text/plain": [
       "<Figure size 504x360 with 1 Axes>"
      ]
     },
     "metadata": {
      "needs_background": "light"
     },
     "output_type": "display_data"
    }
   ],
   "source": [
    "f={}\n",
    "for i in range(1, 10):\n",
    "    if ((Precision[i] == 0) or (Recall[i] == 0)):\n",
    "        f[i] = 0\n",
    "    else:\n",
    "        f[i] = 2*(Precision[i]*Recall[i])/(Precision[i]+Recall[i])\n",
    "        f[i]*=100\n",
    "\n",
    "plt.figure(figsize=(7,5))\n",
    "fcolors = ['#F56F45', '#FA7E7E','#8C8456','#8F6A9E','#226854','#9EDAAB', '#7C97FC', '#25C4EF', '#A7D909'] \n",
    "f = {'f1-measure': f}\n",
    "F = pd.DataFrame(f)\n",
    "X = np.arange(9)\n",
    "F['Facies'] = [1,2,3,4,5,6,7,8,9]\n",
    "plt.bar(X, F['f1-measure'], color = fcolors, width = 0.5, label = 'f1-measure')\n",
    "plt.title('f1-measure for each facies')\n",
    "plt.xlabel('Facies')\n",
    "plt.ylabel('f1')\n",
    "plt.xticks(X, Res['Facies'])\n",
    "plt.savefig(\"f1_measure.png\")\n",
    "plt.show()"
   ]
  },
  {
   "cell_type": "code",
   "execution_count": 85,
   "metadata": {},
   "outputs": [
    {
     "data": {
      "text/plain": [
       "<Figure size 432x288 with 0 Axes>"
      ]
     },
     "metadata": {},
     "output_type": "display_data"
    }
   ],
   "source": [
    "plt.savefig(\"f1_.png\")"
   ]
  },
  {
   "cell_type": "code",
   "execution_count": null,
   "metadata": {},
   "outputs": [],
   "source": []
  },
  {
   "cell_type": "code",
   "execution_count": null,
   "metadata": {},
   "outputs": [],
   "source": [
    "###############################################################################################################################"
   ]
  }
 ],
 "metadata": {
  "kernelspec": {
   "display_name": "Python 3",
   "language": "python",
   "name": "python3"
  },
  "language_info": {
   "codemirror_mode": {
    "name": "ipython",
    "version": 3
   },
   "file_extension": ".py",
   "mimetype": "text/x-python",
   "name": "python",
   "nbconvert_exporter": "python",
   "pygments_lexer": "ipython3",
   "version": "3.7.1"
  }
 },
 "nbformat": 4,
 "nbformat_minor": 2
}
